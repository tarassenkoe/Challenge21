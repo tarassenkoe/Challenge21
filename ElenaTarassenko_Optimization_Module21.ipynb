{
  "cells": [
    {
      "cell_type": "markdown",
      "metadata": {
        "id": "NvgDe3I993Xl"
      },
      "source": [
        "## Preprocessing"
      ]
    },
    {
      "cell_type": "code",
      "execution_count": 1,
      "metadata": {
        "colab": {
          "base_uri": "https://localhost:8080/",
          "height": 452
        },
        "id": "DWEEFJI693Xn",
        "outputId": "df7c4552-7a94-47d3-d938-d77c114c8be5"
      },
      "outputs": [
        {
          "output_type": "execute_result",
          "data": {
            "text/plain": [
              "        EIN                                      NAME APPLICATION_TYPE  \\\n",
              "0  10520599              BLUE KNIGHTS MOTORCYCLE CLUB              T10   \n",
              "1  10531628    AMERICAN CHESAPEAKE CLUB CHARITABLE TR               T3   \n",
              "2  10547893        ST CLOUD PROFESSIONAL FIREFIGHTERS               T5   \n",
              "3  10553066            SOUTHSIDE ATHLETIC ASSOCIATION               T3   \n",
              "4  10556103  GENETIC RESEARCH INSTITUTE OF THE DESERT               T3   \n",
              "\n",
              "        AFFILIATION CLASSIFICATION      USE_CASE  ORGANIZATION  STATUS  \\\n",
              "0       Independent          C1000    ProductDev   Association       1   \n",
              "1       Independent          C2000  Preservation  Co-operative       1   \n",
              "2  CompanySponsored          C3000    ProductDev   Association       1   \n",
              "3  CompanySponsored          C2000  Preservation         Trust       1   \n",
              "4       Independent          C1000     Heathcare         Trust       1   \n",
              "\n",
              "      INCOME_AMT SPECIAL_CONSIDERATIONS  ASK_AMT  IS_SUCCESSFUL  \n",
              "0              0                      N     5000              1  \n",
              "1         1-9999                      N   108590              1  \n",
              "2              0                      N     5000              0  \n",
              "3    10000-24999                      N     6692              1  \n",
              "4  100000-499999                      N   142590              1  "
            ],
            "text/html": [
              "\n",
              "  <div id=\"df-bd8eea59-b08f-48aa-8ab5-b1e9f57ccaa1\" class=\"colab-df-container\">\n",
              "    <div>\n",
              "<style scoped>\n",
              "    .dataframe tbody tr th:only-of-type {\n",
              "        vertical-align: middle;\n",
              "    }\n",
              "\n",
              "    .dataframe tbody tr th {\n",
              "        vertical-align: top;\n",
              "    }\n",
              "\n",
              "    .dataframe thead th {\n",
              "        text-align: right;\n",
              "    }\n",
              "</style>\n",
              "<table border=\"1\" class=\"dataframe\">\n",
              "  <thead>\n",
              "    <tr style=\"text-align: right;\">\n",
              "      <th></th>\n",
              "      <th>EIN</th>\n",
              "      <th>NAME</th>\n",
              "      <th>APPLICATION_TYPE</th>\n",
              "      <th>AFFILIATION</th>\n",
              "      <th>CLASSIFICATION</th>\n",
              "      <th>USE_CASE</th>\n",
              "      <th>ORGANIZATION</th>\n",
              "      <th>STATUS</th>\n",
              "      <th>INCOME_AMT</th>\n",
              "      <th>SPECIAL_CONSIDERATIONS</th>\n",
              "      <th>ASK_AMT</th>\n",
              "      <th>IS_SUCCESSFUL</th>\n",
              "    </tr>\n",
              "  </thead>\n",
              "  <tbody>\n",
              "    <tr>\n",
              "      <th>0</th>\n",
              "      <td>10520599</td>\n",
              "      <td>BLUE KNIGHTS MOTORCYCLE CLUB</td>\n",
              "      <td>T10</td>\n",
              "      <td>Independent</td>\n",
              "      <td>C1000</td>\n",
              "      <td>ProductDev</td>\n",
              "      <td>Association</td>\n",
              "      <td>1</td>\n",
              "      <td>0</td>\n",
              "      <td>N</td>\n",
              "      <td>5000</td>\n",
              "      <td>1</td>\n",
              "    </tr>\n",
              "    <tr>\n",
              "      <th>1</th>\n",
              "      <td>10531628</td>\n",
              "      <td>AMERICAN CHESAPEAKE CLUB CHARITABLE TR</td>\n",
              "      <td>T3</td>\n",
              "      <td>Independent</td>\n",
              "      <td>C2000</td>\n",
              "      <td>Preservation</td>\n",
              "      <td>Co-operative</td>\n",
              "      <td>1</td>\n",
              "      <td>1-9999</td>\n",
              "      <td>N</td>\n",
              "      <td>108590</td>\n",
              "      <td>1</td>\n",
              "    </tr>\n",
              "    <tr>\n",
              "      <th>2</th>\n",
              "      <td>10547893</td>\n",
              "      <td>ST CLOUD PROFESSIONAL FIREFIGHTERS</td>\n",
              "      <td>T5</td>\n",
              "      <td>CompanySponsored</td>\n",
              "      <td>C3000</td>\n",
              "      <td>ProductDev</td>\n",
              "      <td>Association</td>\n",
              "      <td>1</td>\n",
              "      <td>0</td>\n",
              "      <td>N</td>\n",
              "      <td>5000</td>\n",
              "      <td>0</td>\n",
              "    </tr>\n",
              "    <tr>\n",
              "      <th>3</th>\n",
              "      <td>10553066</td>\n",
              "      <td>SOUTHSIDE ATHLETIC ASSOCIATION</td>\n",
              "      <td>T3</td>\n",
              "      <td>CompanySponsored</td>\n",
              "      <td>C2000</td>\n",
              "      <td>Preservation</td>\n",
              "      <td>Trust</td>\n",
              "      <td>1</td>\n",
              "      <td>10000-24999</td>\n",
              "      <td>N</td>\n",
              "      <td>6692</td>\n",
              "      <td>1</td>\n",
              "    </tr>\n",
              "    <tr>\n",
              "      <th>4</th>\n",
              "      <td>10556103</td>\n",
              "      <td>GENETIC RESEARCH INSTITUTE OF THE DESERT</td>\n",
              "      <td>T3</td>\n",
              "      <td>Independent</td>\n",
              "      <td>C1000</td>\n",
              "      <td>Heathcare</td>\n",
              "      <td>Trust</td>\n",
              "      <td>1</td>\n",
              "      <td>100000-499999</td>\n",
              "      <td>N</td>\n",
              "      <td>142590</td>\n",
              "      <td>1</td>\n",
              "    </tr>\n",
              "  </tbody>\n",
              "</table>\n",
              "</div>\n",
              "    <div class=\"colab-df-buttons\">\n",
              "\n",
              "  <div class=\"colab-df-container\">\n",
              "    <button class=\"colab-df-convert\" onclick=\"convertToInteractive('df-bd8eea59-b08f-48aa-8ab5-b1e9f57ccaa1')\"\n",
              "            title=\"Convert this dataframe to an interactive table.\"\n",
              "            style=\"display:none;\">\n",
              "\n",
              "  <svg xmlns=\"http://www.w3.org/2000/svg\" height=\"24px\" viewBox=\"0 -960 960 960\">\n",
              "    <path d=\"M120-120v-720h720v720H120Zm60-500h600v-160H180v160Zm220 220h160v-160H400v160Zm0 220h160v-160H400v160ZM180-400h160v-160H180v160Zm440 0h160v-160H620v160ZM180-180h160v-160H180v160Zm440 0h160v-160H620v160Z\"/>\n",
              "  </svg>\n",
              "    </button>\n",
              "\n",
              "  <style>\n",
              "    .colab-df-container {\n",
              "      display:flex;\n",
              "      gap: 12px;\n",
              "    }\n",
              "\n",
              "    .colab-df-convert {\n",
              "      background-color: #E8F0FE;\n",
              "      border: none;\n",
              "      border-radius: 50%;\n",
              "      cursor: pointer;\n",
              "      display: none;\n",
              "      fill: #1967D2;\n",
              "      height: 32px;\n",
              "      padding: 0 0 0 0;\n",
              "      width: 32px;\n",
              "    }\n",
              "\n",
              "    .colab-df-convert:hover {\n",
              "      background-color: #E2EBFA;\n",
              "      box-shadow: 0px 1px 2px rgba(60, 64, 67, 0.3), 0px 1px 3px 1px rgba(60, 64, 67, 0.15);\n",
              "      fill: #174EA6;\n",
              "    }\n",
              "\n",
              "    .colab-df-buttons div {\n",
              "      margin-bottom: 4px;\n",
              "    }\n",
              "\n",
              "    [theme=dark] .colab-df-convert {\n",
              "      background-color: #3B4455;\n",
              "      fill: #D2E3FC;\n",
              "    }\n",
              "\n",
              "    [theme=dark] .colab-df-convert:hover {\n",
              "      background-color: #434B5C;\n",
              "      box-shadow: 0px 1px 3px 1px rgba(0, 0, 0, 0.15);\n",
              "      filter: drop-shadow(0px 1px 2px rgba(0, 0, 0, 0.3));\n",
              "      fill: #FFFFFF;\n",
              "    }\n",
              "  </style>\n",
              "\n",
              "    <script>\n",
              "      const buttonEl =\n",
              "        document.querySelector('#df-bd8eea59-b08f-48aa-8ab5-b1e9f57ccaa1 button.colab-df-convert');\n",
              "      buttonEl.style.display =\n",
              "        google.colab.kernel.accessAllowed ? 'block' : 'none';\n",
              "\n",
              "      async function convertToInteractive(key) {\n",
              "        const element = document.querySelector('#df-bd8eea59-b08f-48aa-8ab5-b1e9f57ccaa1');\n",
              "        const dataTable =\n",
              "          await google.colab.kernel.invokeFunction('convertToInteractive',\n",
              "                                                    [key], {});\n",
              "        if (!dataTable) return;\n",
              "\n",
              "        const docLinkHtml = 'Like what you see? Visit the ' +\n",
              "          '<a target=\"_blank\" href=https://colab.research.google.com/notebooks/data_table.ipynb>data table notebook</a>'\n",
              "          + ' to learn more about interactive tables.';\n",
              "        element.innerHTML = '';\n",
              "        dataTable['output_type'] = 'display_data';\n",
              "        await google.colab.output.renderOutput(dataTable, element);\n",
              "        const docLink = document.createElement('div');\n",
              "        docLink.innerHTML = docLinkHtml;\n",
              "        element.appendChild(docLink);\n",
              "      }\n",
              "    </script>\n",
              "  </div>\n",
              "\n",
              "\n",
              "<div id=\"df-22024a02-4934-4f5e-b5b7-a024f11344f6\">\n",
              "  <button class=\"colab-df-quickchart\" onclick=\"quickchart('df-22024a02-4934-4f5e-b5b7-a024f11344f6')\"\n",
              "            title=\"Suggest charts\"\n",
              "            style=\"display:none;\">\n",
              "\n",
              "<svg xmlns=\"http://www.w3.org/2000/svg\" height=\"24px\"viewBox=\"0 0 24 24\"\n",
              "     width=\"24px\">\n",
              "    <g>\n",
              "        <path d=\"M19 3H5c-1.1 0-2 .9-2 2v14c0 1.1.9 2 2 2h14c1.1 0 2-.9 2-2V5c0-1.1-.9-2-2-2zM9 17H7v-7h2v7zm4 0h-2V7h2v10zm4 0h-2v-4h2v4z\"/>\n",
              "    </g>\n",
              "</svg>\n",
              "  </button>\n",
              "\n",
              "<style>\n",
              "  .colab-df-quickchart {\n",
              "      --bg-color: #E8F0FE;\n",
              "      --fill-color: #1967D2;\n",
              "      --hover-bg-color: #E2EBFA;\n",
              "      --hover-fill-color: #174EA6;\n",
              "      --disabled-fill-color: #AAA;\n",
              "      --disabled-bg-color: #DDD;\n",
              "  }\n",
              "\n",
              "  [theme=dark] .colab-df-quickchart {\n",
              "      --bg-color: #3B4455;\n",
              "      --fill-color: #D2E3FC;\n",
              "      --hover-bg-color: #434B5C;\n",
              "      --hover-fill-color: #FFFFFF;\n",
              "      --disabled-bg-color: #3B4455;\n",
              "      --disabled-fill-color: #666;\n",
              "  }\n",
              "\n",
              "  .colab-df-quickchart {\n",
              "    background-color: var(--bg-color);\n",
              "    border: none;\n",
              "    border-radius: 50%;\n",
              "    cursor: pointer;\n",
              "    display: none;\n",
              "    fill: var(--fill-color);\n",
              "    height: 32px;\n",
              "    padding: 0;\n",
              "    width: 32px;\n",
              "  }\n",
              "\n",
              "  .colab-df-quickchart:hover {\n",
              "    background-color: var(--hover-bg-color);\n",
              "    box-shadow: 0 1px 2px rgba(60, 64, 67, 0.3), 0 1px 3px 1px rgba(60, 64, 67, 0.15);\n",
              "    fill: var(--button-hover-fill-color);\n",
              "  }\n",
              "\n",
              "  .colab-df-quickchart-complete:disabled,\n",
              "  .colab-df-quickchart-complete:disabled:hover {\n",
              "    background-color: var(--disabled-bg-color);\n",
              "    fill: var(--disabled-fill-color);\n",
              "    box-shadow: none;\n",
              "  }\n",
              "\n",
              "  .colab-df-spinner {\n",
              "    border: 2px solid var(--fill-color);\n",
              "    border-color: transparent;\n",
              "    border-bottom-color: var(--fill-color);\n",
              "    animation:\n",
              "      spin 1s steps(1) infinite;\n",
              "  }\n",
              "\n",
              "  @keyframes spin {\n",
              "    0% {\n",
              "      border-color: transparent;\n",
              "      border-bottom-color: var(--fill-color);\n",
              "      border-left-color: var(--fill-color);\n",
              "    }\n",
              "    20% {\n",
              "      border-color: transparent;\n",
              "      border-left-color: var(--fill-color);\n",
              "      border-top-color: var(--fill-color);\n",
              "    }\n",
              "    30% {\n",
              "      border-color: transparent;\n",
              "      border-left-color: var(--fill-color);\n",
              "      border-top-color: var(--fill-color);\n",
              "      border-right-color: var(--fill-color);\n",
              "    }\n",
              "    40% {\n",
              "      border-color: transparent;\n",
              "      border-right-color: var(--fill-color);\n",
              "      border-top-color: var(--fill-color);\n",
              "    }\n",
              "    60% {\n",
              "      border-color: transparent;\n",
              "      border-right-color: var(--fill-color);\n",
              "    }\n",
              "    80% {\n",
              "      border-color: transparent;\n",
              "      border-right-color: var(--fill-color);\n",
              "      border-bottom-color: var(--fill-color);\n",
              "    }\n",
              "    90% {\n",
              "      border-color: transparent;\n",
              "      border-bottom-color: var(--fill-color);\n",
              "    }\n",
              "  }\n",
              "</style>\n",
              "\n",
              "  <script>\n",
              "    async function quickchart(key) {\n",
              "      const quickchartButtonEl =\n",
              "        document.querySelector('#' + key + ' button');\n",
              "      quickchartButtonEl.disabled = true;  // To prevent multiple clicks.\n",
              "      quickchartButtonEl.classList.add('colab-df-spinner');\n",
              "      try {\n",
              "        const charts = await google.colab.kernel.invokeFunction(\n",
              "            'suggestCharts', [key], {});\n",
              "      } catch (error) {\n",
              "        console.error('Error during call to suggestCharts:', error);\n",
              "      }\n",
              "      quickchartButtonEl.classList.remove('colab-df-spinner');\n",
              "      quickchartButtonEl.classList.add('colab-df-quickchart-complete');\n",
              "    }\n",
              "    (() => {\n",
              "      let quickchartButtonEl =\n",
              "        document.querySelector('#df-22024a02-4934-4f5e-b5b7-a024f11344f6 button');\n",
              "      quickchartButtonEl.style.display =\n",
              "        google.colab.kernel.accessAllowed ? 'block' : 'none';\n",
              "    })();\n",
              "  </script>\n",
              "</div>\n",
              "\n",
              "    </div>\n",
              "  </div>\n"
            ]
          },
          "metadata": {},
          "execution_count": 1
        }
      ],
      "source": [
        "# Import our dependencies\n",
        "from sklearn.model_selection import train_test_split\n",
        "from sklearn.preprocessing import StandardScaler\n",
        "import pandas as pd\n",
        "import tensorflow as tf\n",
        "\n",
        "#  Import and read the charity_data.csv.\n",
        "import pandas as pd\n",
        "application_df = pd.read_csv(\"https://static.bc-edx.com/data/dl-1-2/m21/lms/starter/charity_data.csv\")\n",
        "application_df.head()"
      ]
    },
    {
      "cell_type": "code",
      "execution_count": 2,
      "metadata": {
        "id": "USlLWTU793Xp"
      },
      "outputs": [],
      "source": [
        "# Drop the non-beneficial ID columns, 'EIN' and 'NAME'.\n",
        "application_df=application_df.drop(columns=['EIN','NAME'])"
      ]
    },
    {
      "cell_type": "code",
      "execution_count": 3,
      "metadata": {
        "colab": {
          "base_uri": "https://localhost:8080/"
        },
        "id": "_NMXUNoR93Xp",
        "outputId": "1cf077a7-b65e-40ca-c12b-a98f869ab2b8"
      },
      "outputs": [
        {
          "output_type": "execute_result",
          "data": {
            "text/plain": [
              "APPLICATION_TYPE            17\n",
              "AFFILIATION                  6\n",
              "CLASSIFICATION              71\n",
              "USE_CASE                     5\n",
              "ORGANIZATION                 4\n",
              "STATUS                       2\n",
              "INCOME_AMT                   9\n",
              "SPECIAL_CONSIDERATIONS       2\n",
              "ASK_AMT                   8747\n",
              "IS_SUCCESSFUL                2\n",
              "dtype: int64"
            ]
          },
          "metadata": {},
          "execution_count": 3
        }
      ],
      "source": [
        "# Determine the number of unique values in each column.\n",
        "#  YOUR CODE GOES HERE\n",
        "application_df.nunique()"
      ]
    },
    {
      "cell_type": "code",
      "execution_count": 4,
      "metadata": {
        "colab": {
          "base_uri": "https://localhost:8080/"
        },
        "id": "6UpG-Fc693Xq",
        "outputId": "e2fdb45d-d039-44ac-a397-8d2b41dcc024"
      },
      "outputs": [
        {
          "output_type": "execute_result",
          "data": {
            "text/plain": [
              "T17        1\n",
              "T29        2\n",
              "T15        2\n",
              "T14        3\n",
              "T25        3\n",
              "T2        16\n",
              "T12       27\n",
              "T13       66\n",
              "T9       156\n",
              "T10      528\n",
              "T7       725\n",
              "T8       737\n",
              "T19     1065\n",
              "T5      1173\n",
              "T6      1216\n",
              "T4      1542\n",
              "T3     27037\n",
              "Name: APPLICATION_TYPE, dtype: int64"
            ]
          },
          "metadata": {},
          "execution_count": 4
        }
      ],
      "source": [
        "# Look at APPLICATION_TYPE value counts for binning\n",
        "#  YOUR CODE GOES HERE\n",
        "application_df[\"APPLICATION_TYPE\"].value_counts().sort_values()"
      ]
    },
    {
      "cell_type": "code",
      "execution_count": 5,
      "metadata": {
        "colab": {
          "base_uri": "https://localhost:8080/"
        },
        "id": "V1NMuWla93Xq",
        "outputId": "500dcf25-9b1f-40ec-9b75-757cefbbceb3"
      },
      "outputs": [
        {
          "output_type": "execute_result",
          "data": {
            "text/plain": [
              "Very High    32836\n",
              "High          1409\n",
              "Moderate        43\n",
              "Low             11\n",
              "Name: APPLICATION_TYPE, dtype: int64"
            ]
          },
          "metadata": {},
          "execution_count": 5
        }
      ],
      "source": [
        "# Choose a cutoff value and create a list of application types to be replaced\n",
        "# use the variable name `application_types_to_replace`\n",
        "application_types_to_replace=['T10',\n",
        " 'T3',\n",
        " 'T5',\n",
        " 'T7',\n",
        " 'T4',\n",
        " 'T6',\n",
        " 'T2',\n",
        " 'T9',\n",
        " 'T19',\n",
        " 'T8',\n",
        " 'T13',\n",
        " 'T12',\n",
        " 'T29',\n",
        " 'T25',\n",
        " 'T14',\n",
        " 'T17',\n",
        " 'T15']\n",
        "\n",
        "# Replace in dataframe\n",
        "for app in application_types_to_replace:\n",
        "  if 0 <= application_df[\"APPLICATION_TYPE\"].value_counts().loc[app] < 4:\n",
        "    application_df['APPLICATION_TYPE'] = application_df['APPLICATION_TYPE'].replace(app,\"Low\")\n",
        "  elif 16<=application_df[\"APPLICATION_TYPE\"].value_counts().loc[app]<66:\n",
        "    application_df[\"APPLICATION_TYPE\"]=application_df[\"APPLICATION_TYPE\"].replace(app,\"Moderate\")\n",
        "  elif 156<=application_df[\"APPLICATION_TYPE\"].value_counts().loc[app]<737:\n",
        "    application_df[\"APPLICATION_TYPE\"]=application_df[\"APPLICATION_TYPE\"].replace(app,\"High\")\n",
        "  else:\n",
        "    application_df[\"APPLICATION_TYPE\"]=application_df[\"APPLICATION_TYPE\"].replace(app,\"Very High\")\n",
        "\n",
        "# Check to make sure binning was successful\n",
        "application_df['APPLICATION_TYPE'].value_counts()"
      ]
    },
    {
      "cell_type": "code",
      "execution_count": 6,
      "metadata": {
        "id": "-e8KSHLy93Xq"
      },
      "outputs": [],
      "source": [
        "# Look at CLASSIFICATION value counts for binning\n",
        "#  YOUR CODE GOES HERE\n",
        "elem_list=application_df[\"CLASSIFICATION\"].value_counts().index.tolist()"
      ]
    },
    {
      "cell_type": "code",
      "execution_count": 7,
      "metadata": {
        "id": "WmyMmiap93Xr"
      },
      "outputs": [],
      "source": [
        "# You may find it helpful to look at CLASSIFICATION value counts >1\n",
        "for elem in elem_list:\n",
        "  if 0 <= application_df[\"CLASSIFICATION\"].value_counts().loc[elem] < 7:\n",
        "    application_df['CLASSIFICATION'] = application_df['CLASSIFICATION'].replace(elem,\"Type1\")\n",
        "  elif 7 <= application_df[\"CLASSIFICATION\"].value_counts().loc[elem] < 30:\n",
        "    application_df[\"CLASSIFICATION\"] = application_df[\"CLASSIFICATION\"].replace(elem,\"Type2\")\n",
        "  elif 30 <= application_df[\"CLASSIFICATION\"].value_counts().loc[elem] < 194:\n",
        "    application_df[\"CLASSIFICATION\"] = application_df[\"CLASSIFICATION\"].replace(elem,\"Type3\")\n",
        "  else:\n",
        "    application_df[\"CLASSIFICATION\"] = application_df[\"CLASSIFICATION\"].replace(elem,\"Type4\")\n"
      ]
    },
    {
      "cell_type": "code",
      "execution_count": 8,
      "metadata": {
        "colab": {
          "base_uri": "https://localhost:8080/"
        },
        "id": "StH0wllF93Xr",
        "outputId": "cfa4796f-ce42-430d-c82f-331f63c092d7"
      },
      "outputs": [
        {
          "output_type": "execute_result",
          "data": {
            "text/plain": [
              "Type4    33296\n",
              "Type3      776\n",
              "Type2      154\n",
              "Type1       73\n",
              "Name: CLASSIFICATION, dtype: int64"
            ]
          },
          "metadata": {},
          "execution_count": 8
        }
      ],
      "source": [
        "# Choose a cutoff value and create a list of classifications to be replaced\n",
        "# use the variable name `classifications_to_replace`\n",
        "#  YOUR CODE GOES HERE\n",
        "\n",
        "\n",
        "# Check to make sure binning was successful\n",
        "application_df['CLASSIFICATION'].value_counts()"
      ]
    },
    {
      "cell_type": "code",
      "execution_count": 9,
      "metadata": {
        "colab": {
          "base_uri": "https://localhost:8080/"
        },
        "id": "8Lmn6INe93Xs",
        "outputId": "87e93385-5087-450a-9815-367d12707010"
      },
      "outputs": [
        {
          "output_type": "stream",
          "name": "stdout",
          "text": [
            "<class 'pandas.core.frame.DataFrame'>\n",
            "RangeIndex: 34299 entries, 0 to 34298\n",
            "Data columns (total 10 columns):\n",
            " #   Column                  Non-Null Count  Dtype \n",
            "---  ------                  --------------  ----- \n",
            " 0   APPLICATION_TYPE        34299 non-null  object\n",
            " 1   AFFILIATION             34299 non-null  object\n",
            " 2   CLASSIFICATION          34299 non-null  object\n",
            " 3   USE_CASE                34299 non-null  object\n",
            " 4   ORGANIZATION            34299 non-null  object\n",
            " 5   STATUS                  34299 non-null  int64 \n",
            " 6   INCOME_AMT              34299 non-null  object\n",
            " 7   SPECIAL_CONSIDERATIONS  34299 non-null  object\n",
            " 8   ASK_AMT                 34299 non-null  int64 \n",
            " 9   IS_SUCCESSFUL           34299 non-null  int64 \n",
            "dtypes: int64(3), object(7)\n",
            "memory usage: 2.6+ MB\n"
          ]
        }
      ],
      "source": [
        "# Convert categorical data to numeric with `pd.get_dummies`\n",
        "#  YOUR CODE GOES HERE\n",
        "application_df.info()\n",
        "dummyvariables=pd.get_dummies(application_df[[\"APPLICATION_TYPE\",\"AFFILIATION\",\"CLASSIFICATION\",\"USE_CASE\",\"ORGANIZATION\",\"INCOME_AMT\",\"SPECIAL_CONSIDERATIONS\"]])"
      ]
    },
    {
      "cell_type": "code",
      "execution_count": 10,
      "metadata": {
        "colab": {
          "base_uri": "https://localhost:8080/"
        },
        "id": "k49MY0Ia93Xs",
        "outputId": "d00ada7d-c3ce-49c8-d7e7-49a6a1f3fe10"
      },
      "outputs": [
        {
          "output_type": "execute_result",
          "data": {
            "text/plain": [
              "(51448, 36)"
            ]
          },
          "metadata": {},
          "execution_count": 10
        }
      ],
      "source": [
        "# Split our preprocessed data into our features and target arrays\n",
        "#  YOUR CODE GOES HERE\n",
        "application_df=application_df.drop(columns=[\"APPLICATION_TYPE\",\"AFFILIATION\",\"CLASSIFICATION\",\"USE_CASE\",\"ORGANIZATION\",\"INCOME_AMT\",\"SPECIAL_CONSIDERATIONS\"],axis=1)\n",
        "applications=pd.concat([application_df,dummyvariables])\n",
        "X=applications.drop(columns=[\"IS_SUCCESSFUL\"])\n",
        "y=applications[\"IS_SUCCESSFUL\"]\n",
        "# Split the preprocessed data into a training and testing dataset\n",
        "X_train,X_test,y_train,y_test=train_test_split(X,y,random_state=78)\n",
        "X_train.shape"
      ]
    },
    {
      "cell_type": "code",
      "execution_count": 11,
      "metadata": {
        "id": "x4n0T7c293Xs",
        "colab": {
          "base_uri": "https://localhost:8080/"
        },
        "outputId": "0fa63138-b63d-4d83-d610-9bec57c6790b"
      },
      "outputs": [
        {
          "output_type": "execute_result",
          "data": {
            "text/plain": [
              "(17150, 36)"
            ]
          },
          "metadata": {},
          "execution_count": 11
        }
      ],
      "source": [
        "# Create a StandardScaler instances\n",
        "scaler = StandardScaler()\n",
        "\n",
        "# Fit the StandardScaler\n",
        "X_scaler = scaler.fit(X_train)\n",
        "\n",
        "# Scale the data\n",
        "X_train_scaled = X_scaler.transform(X_train)\n",
        "X_test_scaled = X_scaler.transform(X_test)\n",
        "X_test.shape"
      ]
    },
    {
      "cell_type": "markdown",
      "metadata": {
        "id": "cJg_2Xcj93Xt"
      },
      "source": [
        "## Compile, Train and Evaluate the Model"
      ]
    },
    {
      "cell_type": "code",
      "execution_count": 12,
      "metadata": {
        "colab": {
          "base_uri": "https://localhost:8080/"
        },
        "id": "Gnk7GMI193Xt",
        "outputId": "3a055192-6a2c-4665-ec45-5cd192c38125"
      },
      "outputs": [
        {
          "output_type": "stream",
          "name": "stdout",
          "text": [
            "Model: \"sequential\"\n",
            "_________________________________________________________________\n",
            " Layer (type)                Output Shape              Param #   \n",
            "=================================================================\n",
            " dense (Dense)               (None, 72)                2664      \n",
            "                                                                 \n",
            " dense_1 (Dense)             (None, 72)                5256      \n",
            "                                                                 \n",
            " dense_2 (Dense)             (None, 72)                5256      \n",
            "                                                                 \n",
            " dense_3 (Dense)             (None, 72)                5256      \n",
            "                                                                 \n",
            " dense_4 (Dense)             (None, 72)                5256      \n",
            "                                                                 \n",
            " dense_5 (Dense)             (None, 72)                5256      \n",
            "                                                                 \n",
            " dense_6 (Dense)             (None, 1)                 73        \n",
            "                                                                 \n",
            "=================================================================\n",
            "Total params: 29017 (113.35 KB)\n",
            "Trainable params: 29017 (113.35 KB)\n",
            "Non-trainable params: 0 (0.00 Byte)\n",
            "_________________________________________________________________\n"
          ]
        }
      ],
      "source": [
        "# Define the model - deep neural net, i.e., the number of input features and hidden nodes for each layer.\n",
        "#  YOUR CODE GOES HERE\n",
        "import tensorflow as tf\n",
        "from tensorflow import keras\n",
        "nn = tf.keras.models.Sequential()\n",
        "\n",
        "# First hidden layer\n",
        "nn.add(tf.keras.layers.Dense(units=72, activation='relu', input_dim=36))\n",
        "# Second hidden layer\n",
        "nn.add(tf.keras.layers.Dense(units=72, activation='relu'))\n",
        "nn.add(tf.keras.layers.Dense(units=72, activation='relu'))\n",
        "nn.add(tf.keras.layers.Dense(units=72, activation='relu'))\n",
        "nn.add(tf.keras.layers.Dense(units=72, activation='relu'))\n",
        "nn.add(tf.keras.layers.Dense(units=72, activation='relu'))\n",
        "# Output layer\n",
        "#  YOUR CODE GOES HERE\n",
        "nn.add(tf.keras.layers.Dense(units=1, activation='sigmoid'))\n",
        "\n",
        "# Check the structure of the model\n",
        "nn.summary()"
      ]
    },
    {
      "cell_type": "code",
      "execution_count": 13,
      "metadata": {
        "id": "YrrQ7_dC93Xt"
      },
      "outputs": [],
      "source": [
        "# Compile the model\n",
        "nn.compile(loss=\"binary_crossentropy\",optimizer=\"adam\",metrics=[\"accuracy\"])"
      ]
    },
    {
      "cell_type": "code",
      "execution_count": 14,
      "metadata": {
        "colab": {
          "base_uri": "https://localhost:8080/"
        },
        "id": "H6EjAtw193Xt",
        "outputId": "6b3a740c-db7d-47f9-bd09-db0f4e75d8fb"
      },
      "outputs": [
        {
          "output_type": "stream",
          "name": "stdout",
          "text": [
            "Epoch 1/100\n",
            "1608/1608 [==============================] - 12s 5ms/step - loss: nan - accuracy: 0.2332\n",
            "Epoch 2/100\n",
            "1608/1608 [==============================] - 5s 3ms/step - loss: nan - accuracy: 0.2332\n",
            "Epoch 3/100\n",
            "1608/1608 [==============================] - 4s 3ms/step - loss: nan - accuracy: 0.2332\n",
            "Epoch 4/100\n",
            "1608/1608 [==============================] - 5s 3ms/step - loss: nan - accuracy: 0.2332\n",
            "Epoch 5/100\n",
            "1608/1608 [==============================] - 6s 3ms/step - loss: nan - accuracy: 0.2332\n",
            "Epoch 6/100\n",
            "1608/1608 [==============================] - 4s 3ms/step - loss: nan - accuracy: 0.2332\n",
            "Epoch 7/100\n",
            "1608/1608 [==============================] - 4s 3ms/step - loss: nan - accuracy: 0.2332\n",
            "Epoch 8/100\n",
            "1608/1608 [==============================] - 6s 3ms/step - loss: nan - accuracy: 0.2332\n",
            "Epoch 9/100\n",
            "1608/1608 [==============================] - 4s 3ms/step - loss: nan - accuracy: 0.2332\n",
            "Epoch 10/100\n",
            "1608/1608 [==============================] - 4s 3ms/step - loss: nan - accuracy: 0.2332\n",
            "Epoch 11/100\n",
            "1608/1608 [==============================] - 6s 4ms/step - loss: nan - accuracy: 0.2332\n",
            "Epoch 12/100\n",
            "1608/1608 [==============================] - 4s 3ms/step - loss: nan - accuracy: 0.2332\n",
            "Epoch 13/100\n",
            "1608/1608 [==============================] - 4s 3ms/step - loss: nan - accuracy: 0.2332\n",
            "Epoch 14/100\n",
            "1608/1608 [==============================] - 6s 4ms/step - loss: nan - accuracy: 0.2332\n",
            "Epoch 15/100\n",
            "1608/1608 [==============================] - 4s 2ms/step - loss: nan - accuracy: 0.2332\n",
            "Epoch 16/100\n",
            "1608/1608 [==============================] - 4s 3ms/step - loss: nan - accuracy: 0.2332\n",
            "Epoch 17/100\n",
            "1608/1608 [==============================] - 7s 4ms/step - loss: nan - accuracy: 0.2332\n",
            "Epoch 18/100\n",
            "1608/1608 [==============================] - 4s 3ms/step - loss: nan - accuracy: 0.2332\n",
            "Epoch 19/100\n",
            "1608/1608 [==============================] - 4s 3ms/step - loss: nan - accuracy: 0.2332\n",
            "Epoch 20/100\n",
            "1608/1608 [==============================] - 6s 4ms/step - loss: nan - accuracy: 0.2332\n",
            "Epoch 21/100\n",
            "1608/1608 [==============================] - 4s 3ms/step - loss: nan - accuracy: 0.2332\n",
            "Epoch 22/100\n",
            "1608/1608 [==============================] - 4s 3ms/step - loss: nan - accuracy: 0.2332\n",
            "Epoch 23/100\n",
            "1608/1608 [==============================] - 6s 4ms/step - loss: nan - accuracy: 0.2332\n",
            "Epoch 24/100\n",
            "1608/1608 [==============================] - 4s 3ms/step - loss: nan - accuracy: 0.2332\n",
            "Epoch 25/100\n",
            "1608/1608 [==============================] - 4s 3ms/step - loss: nan - accuracy: 0.2332\n",
            "Epoch 26/100\n",
            "1608/1608 [==============================] - 6s 4ms/step - loss: nan - accuracy: 0.2332\n",
            "Epoch 27/100\n",
            "1608/1608 [==============================] - 4s 3ms/step - loss: nan - accuracy: 0.2332\n",
            "Epoch 28/100\n",
            "1608/1608 [==============================] - 4s 3ms/step - loss: nan - accuracy: 0.2332\n",
            "Epoch 29/100\n",
            "1608/1608 [==============================] - 6s 4ms/step - loss: nan - accuracy: 0.2332\n",
            "Epoch 30/100\n",
            "1608/1608 [==============================] - 4s 3ms/step - loss: nan - accuracy: 0.2332\n",
            "Epoch 31/100\n",
            "1608/1608 [==============================] - 4s 3ms/step - loss: nan - accuracy: 0.2332\n",
            "Epoch 32/100\n",
            "1608/1608 [==============================] - 5s 3ms/step - loss: nan - accuracy: 0.2332\n",
            "Epoch 33/100\n",
            "1608/1608 [==============================] - 4s 3ms/step - loss: nan - accuracy: 0.2332\n",
            "Epoch 34/100\n",
            "1608/1608 [==============================] - 4s 3ms/step - loss: nan - accuracy: 0.2332\n",
            "Epoch 35/100\n",
            "1608/1608 [==============================] - 5s 3ms/step - loss: nan - accuracy: 0.2332\n",
            "Epoch 36/100\n",
            "1608/1608 [==============================] - 5s 3ms/step - loss: nan - accuracy: 0.2332\n",
            "Epoch 37/100\n",
            "1608/1608 [==============================] - 4s 3ms/step - loss: nan - accuracy: 0.2332\n",
            "Epoch 38/100\n",
            "1608/1608 [==============================] - 5s 3ms/step - loss: nan - accuracy: 0.2332\n",
            "Epoch 39/100\n",
            "1608/1608 [==============================] - 5s 3ms/step - loss: nan - accuracy: 0.2332\n",
            "Epoch 40/100\n",
            "1608/1608 [==============================] - 4s 3ms/step - loss: nan - accuracy: 0.2332\n",
            "Epoch 41/100\n",
            "1608/1608 [==============================] - 4s 3ms/step - loss: nan - accuracy: 0.2332\n",
            "Epoch 42/100\n",
            "1608/1608 [==============================] - 6s 3ms/step - loss: nan - accuracy: 0.2332\n",
            "Epoch 43/100\n",
            "1608/1608 [==============================] - 4s 3ms/step - loss: nan - accuracy: 0.2332\n",
            "Epoch 44/100\n",
            "1608/1608 [==============================] - 4s 3ms/step - loss: nan - accuracy: 0.2332\n",
            "Epoch 45/100\n",
            "1608/1608 [==============================] - 6s 4ms/step - loss: nan - accuracy: 0.2332\n",
            "Epoch 46/100\n",
            "1608/1608 [==============================] - 4s 2ms/step - loss: nan - accuracy: 0.2332\n",
            "Epoch 47/100\n",
            "1608/1608 [==============================] - 4s 3ms/step - loss: nan - accuracy: 0.2332\n",
            "Epoch 48/100\n",
            "1608/1608 [==============================] - 6s 4ms/step - loss: nan - accuracy: 0.2332\n",
            "Epoch 49/100\n",
            "1608/1608 [==============================] - 4s 3ms/step - loss: nan - accuracy: 0.2332\n",
            "Epoch 50/100\n",
            "1608/1608 [==============================] - 4s 3ms/step - loss: nan - accuracy: 0.2332\n",
            "Epoch 51/100\n",
            "1608/1608 [==============================] - 6s 4ms/step - loss: nan - accuracy: 0.2332\n",
            "Epoch 52/100\n",
            "1608/1608 [==============================] - 4s 3ms/step - loss: nan - accuracy: 0.2332\n",
            "Epoch 53/100\n",
            "1608/1608 [==============================] - 4s 3ms/step - loss: nan - accuracy: 0.2332\n",
            "Epoch 54/100\n",
            "1608/1608 [==============================] - 6s 3ms/step - loss: nan - accuracy: 0.2332\n",
            "Epoch 55/100\n",
            "1608/1608 [==============================] - 4s 3ms/step - loss: nan - accuracy: 0.2332\n",
            "Epoch 56/100\n",
            "1608/1608 [==============================] - 4s 3ms/step - loss: nan - accuracy: 0.2332\n",
            "Epoch 57/100\n",
            "1608/1608 [==============================] - 6s 3ms/step - loss: nan - accuracy: 0.2332\n",
            "Epoch 58/100\n",
            "1608/1608 [==============================] - 5s 3ms/step - loss: nan - accuracy: 0.2332\n",
            "Epoch 59/100\n",
            "1608/1608 [==============================] - 4s 3ms/step - loss: nan - accuracy: 0.2332\n",
            "Epoch 60/100\n",
            "1608/1608 [==============================] - 5s 3ms/step - loss: nan - accuracy: 0.2332\n",
            "Epoch 61/100\n",
            "1608/1608 [==============================] - 5s 3ms/step - loss: nan - accuracy: 0.2332\n",
            "Epoch 62/100\n",
            "1608/1608 [==============================] - 5s 3ms/step - loss: nan - accuracy: 0.2332\n",
            "Epoch 63/100\n",
            "1608/1608 [==============================] - 6s 4ms/step - loss: nan - accuracy: 0.2332\n",
            "Epoch 64/100\n",
            "1608/1608 [==============================] - 4s 3ms/step - loss: nan - accuracy: 0.2332\n",
            "Epoch 65/100\n",
            "1608/1608 [==============================] - 4s 3ms/step - loss: nan - accuracy: 0.2332\n",
            "Epoch 66/100\n",
            "1608/1608 [==============================] - 5s 3ms/step - loss: nan - accuracy: 0.2332\n",
            "Epoch 67/100\n",
            "1608/1608 [==============================] - 5s 3ms/step - loss: nan - accuracy: 0.2332\n",
            "Epoch 68/100\n",
            "1608/1608 [==============================] - 4s 3ms/step - loss: nan - accuracy: 0.2332\n",
            "Epoch 69/100\n",
            "1608/1608 [==============================] - 5s 3ms/step - loss: nan - accuracy: 0.2332\n",
            "Epoch 70/100\n",
            "1608/1608 [==============================] - 5s 3ms/step - loss: nan - accuracy: 0.2332\n",
            "Epoch 71/100\n",
            "1608/1608 [==============================] - 4s 3ms/step - loss: nan - accuracy: 0.2332\n",
            "Epoch 72/100\n",
            "1608/1608 [==============================] - 5s 3ms/step - loss: nan - accuracy: 0.2332\n",
            "Epoch 73/100\n",
            "1608/1608 [==============================] - 6s 4ms/step - loss: nan - accuracy: 0.2332\n",
            "Epoch 74/100\n",
            "1608/1608 [==============================] - 4s 3ms/step - loss: nan - accuracy: 0.2332\n",
            "Epoch 75/100\n",
            "1608/1608 [==============================] - 5s 3ms/step - loss: nan - accuracy: 0.2332\n",
            "Epoch 76/100\n",
            "1608/1608 [==============================] - 5s 3ms/step - loss: nan - accuracy: 0.2332\n",
            "Epoch 77/100\n",
            "1608/1608 [==============================] - 4s 2ms/step - loss: nan - accuracy: 0.2332\n",
            "Epoch 78/100\n",
            "1608/1608 [==============================] - 4s 3ms/step - loss: nan - accuracy: 0.2332\n",
            "Epoch 79/100\n",
            "1608/1608 [==============================] - 6s 4ms/step - loss: nan - accuracy: 0.2332\n",
            "Epoch 80/100\n",
            "1608/1608 [==============================] - 4s 3ms/step - loss: nan - accuracy: 0.2332\n",
            "Epoch 81/100\n",
            "1608/1608 [==============================] - 4s 3ms/step - loss: nan - accuracy: 0.2332\n",
            "Epoch 82/100\n",
            "1608/1608 [==============================] - 6s 4ms/step - loss: nan - accuracy: 0.2332\n",
            "Epoch 83/100\n",
            "1608/1608 [==============================] - 4s 3ms/step - loss: nan - accuracy: 0.2332\n",
            "Epoch 84/100\n",
            "1608/1608 [==============================] - 4s 3ms/step - loss: nan - accuracy: 0.2332\n",
            "Epoch 85/100\n",
            "1608/1608 [==============================] - 6s 4ms/step - loss: nan - accuracy: 0.2332\n",
            "Epoch 86/100\n",
            "1608/1608 [==============================] - 4s 3ms/step - loss: nan - accuracy: 0.2332\n",
            "Epoch 87/100\n",
            "1608/1608 [==============================] - 4s 3ms/step - loss: nan - accuracy: 0.2332\n",
            "Epoch 88/100\n",
            "1608/1608 [==============================] - 6s 4ms/step - loss: nan - accuracy: 0.2332\n",
            "Epoch 89/100\n",
            "1608/1608 [==============================] - 5s 3ms/step - loss: nan - accuracy: 0.2332\n",
            "Epoch 90/100\n",
            "1608/1608 [==============================] - 4s 3ms/step - loss: nan - accuracy: 0.2332\n",
            "Epoch 91/100\n",
            "1608/1608 [==============================] - 6s 3ms/step - loss: nan - accuracy: 0.2332\n",
            "Epoch 92/100\n",
            "1608/1608 [==============================] - 4s 3ms/step - loss: nan - accuracy: 0.2332\n",
            "Epoch 93/100\n",
            "1608/1608 [==============================] - 4s 3ms/step - loss: nan - accuracy: 0.2332\n",
            "Epoch 94/100\n",
            "1608/1608 [==============================] - 5s 3ms/step - loss: nan - accuracy: 0.2332\n",
            "Epoch 95/100\n",
            "1608/1608 [==============================] - 5s 3ms/step - loss: nan - accuracy: 0.2332\n",
            "Epoch 96/100\n",
            "1608/1608 [==============================] - 4s 2ms/step - loss: nan - accuracy: 0.2332\n",
            "Epoch 97/100\n",
            "1608/1608 [==============================] - 5s 3ms/step - loss: nan - accuracy: 0.2332\n",
            "Epoch 98/100\n",
            "1608/1608 [==============================] - 5s 3ms/step - loss: nan - accuracy: 0.2332\n",
            "Epoch 99/100\n",
            "1608/1608 [==============================] - 4s 3ms/step - loss: nan - accuracy: 0.2332\n",
            "Epoch 100/100\n",
            "1608/1608 [==============================] - 6s 4ms/step - loss: nan - accuracy: 0.2332\n"
          ]
        },
        {
          "output_type": "execute_result",
          "data": {
            "text/plain": [
              "<keras.src.callbacks.History at 0x7bac15308be0>"
            ]
          },
          "metadata": {},
          "execution_count": 14
        }
      ],
      "source": [
        "# Train the model\n",
        "nn.fit(X_train_scaled,y_train,epochs=100)"
      ]
    },
    {
      "cell_type": "code",
      "execution_count": 15,
      "metadata": {
        "colab": {
          "base_uri": "https://localhost:8080/"
        },
        "id": "3x6EwiOv93Xu",
        "outputId": "c53f7463-8bad-4932-f5af-052727eb88ba"
      },
      "outputs": [
        {
          "output_type": "stream",
          "name": "stdout",
          "text": [
            "536/536 - 1s - loss: nan - accuracy: 0.2357 - 962ms/epoch - 2ms/step\n",
            "Loss: nan, Accuracy: 0.23568512499332428\n"
          ]
        }
      ],
      "source": [
        "# Evaluate the model using the test data\n",
        "model_loss, model_accuracy = nn.evaluate(X_test_scaled,y_test,verbose=2)\n",
        "print(f\"Loss: {model_loss}, Accuracy: {model_accuracy}\")"
      ]
    },
    {
      "cell_type": "code",
      "execution_count": 18,
      "metadata": {
        "id": "-zhkmOeV93Xu"
      },
      "outputs": [],
      "source": [
        "# Export our model to HDF5 file\n",
        "nn.save(\"alphabetcharitysoup_optimization.h5\")"
      ]
    },
    {
      "cell_type": "code",
      "source": [],
      "metadata": {
        "id": "xthJr9BCKGie"
      },
      "execution_count": 16,
      "outputs": []
    }
  ],
  "metadata": {
    "kernelspec": {
      "display_name": "Python 3",
      "language": "python",
      "name": "python3"
    },
    "language_info": {
      "codemirror_mode": {
        "name": "ipython",
        "version": 3
      },
      "file_extension": ".py",
      "mimetype": "text/x-python",
      "name": "python",
      "nbconvert_exporter": "python",
      "pygments_lexer": "ipython3",
      "version": "3.-1.-1"
    },
    "vscode": {
      "interpreter": {
        "hash": "31f2aee4e71d21fbe5cf8b01ff0e069b9275f58929596ceb00d14d90e3e16cd6"
      }
    },
    "colab": {
      "provenance": []
    }
  },
  "nbformat": 4,
  "nbformat_minor": 0
}